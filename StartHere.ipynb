{
 "cells": [
  {
   "cell_type": "code",
   "execution_count": 1,
   "metadata": {
    "ExecuteTime": {
     "end_time": "2019-09-26T23:44:12.472842Z",
     "start_time": "2019-09-26T23:44:05.562013Z"
    }
   },
   "outputs": [],
   "source": [
    "import pdb\n",
    "import imp\n",
    "import os\n",
    "from pathlib import Path\n",
    "import torch\n",
    "import numpy as np\n",
    "from matplotlib import pyplot\n",
    "import rasterio\n",
    "import fastai\n",
    "from multispectral import corine\n",
    "from multispectral import coords\n",
    "from multispectral import windows\n",
    "from multispectral import tools\n",
    "from multispectral import bands\n",
    "import neptune\n",
    "import infra\n",
    "import zoo\n",
    "\n",
    "neptune.init('denised/landcover')\n",
    "windows_list = os.environ['LANDSAT_DIR'] + '/all_windows.csv'\n",
    "infra.set_defaults(\n",
    "    corine_directory=os.environ['CORINE_DIR'],\n",
    "    traintracker_store=infra.TrainTrackerWebHook(os.environ['TRAINTRACKER_URI']))"
   ]
  },
  {
   "cell_type": "code",
   "execution_count": 2,
   "metadata": {
    "ExecuteTime": {
     "end_time": "2019-09-26T23:44:12.481841Z",
     "start_time": "2019-09-26T23:44:12.475843Z"
    }
   },
   "outputs": [],
   "source": [
    "import matplotlib\n",
    "matplotlib.rcParams['figure.figsize'] = [15.0,10.0]"
   ]
  },
  {
   "cell_type": "code",
   "execution_count": 7,
   "metadata": {
    "ExecuteTime": {
     "end_time": "2019-09-26T23:53:46.101490Z",
     "start_time": "2019-09-26T23:53:46.049506Z"
    }
   },
   "outputs": [],
   "source": [
    "allwindows = windows.from_file(windows_list)\n",
    "(tr_list, val_list) = windows.chunked_split(allwindows)\n",
    "print(len(tr_list), len(val_list))"
   ]
  },
  {
   "cell_type": "code",
   "execution_count": 10,
   "metadata": {
    "ExecuteTime": {
     "end_time": "2019-09-26T23:54:07.156416Z",
     "start_time": "2019-09-26T23:54:07.151415Z"
    }
   },
   "outputs": [],
   "source": [
    "infra.set_defaults(silent=True, batch_size=4)"
   ]
  },
  {
   "cell_type": "code",
   "execution_count": 12,
   "metadata": {
    "ExecuteTime": {
     "end_time": "2019-09-26T23:57:42.018722Z",
     "start_time": "2019-09-26T23:57:39.275728Z"
    }
   },
   "outputs": [],
   "source": [
    "# Some optional callbacks.\n",
    "tracer = infra.LearnerTracer    # check for Nan or zero in gradients\n",
    "ender = infra.TrainEnder()        # end after train_n iterations\n",
    "infra.set_defaults(train_end=40)\n",
    "\n",
    "# CycleHandler will run metrics more often than once per epoch.  You list the metrics *and* how you \n",
    "# wan to handle them (such as CSVLogger or SendToNeptune).\n",
    "# One detail that is a bit confusing: you have pass a LearnerCallback *class* (like DiceMetric),\n",
    "# but instantiate a regular Callback *object* (like CSVLogger).  See info for CycleHandler class\n",
    "# for more details, and infra/callbacks.py for examples\n",
    "monitor = infra.CycleHandler.Create(n=20,   # how frequently to run\n",
    "   [ infra.DiceMetric, fastai.metrics.accuracy_thresh, infra.CSVLogger() ])\n",
    "\n",
    "#learner = zoo.Simple.create(tr_list,val_list, [6,20,30,11], callbacks=[ender], callback_fns=[monitor,tracer])\n",
    "#learner = zoo.ImageUResNet.create(tr_list,val_list, callback_fns=[tracer])\n",
    "learner = zoo.MultiUResNet.create(tr_list,val_list, callback_fns=[monitor])"
   ]
  },
  {
   "cell_type": "code",
   "execution_count": 13,
   "metadata": {
    "ExecuteTime": {
     "end_time": "2019-09-26T23:59:45.640260Z",
     "start_time": "2019-09-26T23:57:44.366324Z"
    }
   },
   "outputs": [],
   "source": [
    "#learner.fit_one_cycle(1)\n",
    "learner.fit(1, description=\"testing\",neptune=False)"
   ]
  },
  {
   "cell_type": "markdown",
   "metadata": {},
   "source": [
    "There are many possible ways to look at the model performance; I haven't done much work on this yet.\n",
    "\n",
    "Here we use`get_prediction_set` to get the learner-predicted outcomes for a specific set of windows that you provide,\n",
    "and then `collapsepreds` to collapse the multi-label outcome into a single most-likely label, which makes it easier\n",
    "to look at when plotted."
   ]
  },
  {
   "cell_type": "code",
   "execution_count": 9,
   "metadata": {},
   "outputs": [],
   "source": [
    "predset = tools.get_prediction_set(learner, tr_list[:20])\n",
    "collapsedpreds = tools.collapse_predictions(predset)"
   ]
  },
  {
   "cell_type": "markdown",
   "metadata": {},
   "source": [
    "`show_predictions` will show four columns: the RGB portion of the original image, the collapsed predicted \n",
    "landuse, the collapsed target landuse, and a plot showing where these agree or disagree."
   ]
  },
  {
   "cell_type": "code",
   "execution_count": 11,
   "metadata": {},
   "outputs": [],
   "source": [
    "tools.show_predictions(collapsedpreds)"
   ]
  },
  {
   "cell_type": "code",
   "execution_count": null,
   "metadata": {},
   "outputs": [],
   "source": []
  }
 ],
 "metadata": {
  "kernelspec": {
   "display_name": "Python [conda env:fastai]",
   "language": "python",
   "name": "conda-env-fastai-py"
  },
  "language_info": {
   "codemirror_mode": {
    "name": "ipython",
    "version": 3
   },
   "file_extension": ".py",
   "mimetype": "text/x-python",
   "name": "python",
   "nbconvert_exporter": "python",
   "pygments_lexer": "ipython3",
   "version": "3.6.7"
  }
 },
 "nbformat": 4,
 "nbformat_minor": 2
}