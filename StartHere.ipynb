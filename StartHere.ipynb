{
 "cells": [
  {
   "cell_type": "code",
   "execution_count": 1,
   "metadata": {
    "ExecuteTime": {
     "end_time": "2019-08-22T05:42:41.292458Z",
     "start_time": "2019-08-22T05:42:24.043171Z"
    }
   },
   "outputs": [],
   "source": [
    "import pdb\n",
    "import imp\n",
    "import os\n",
    "from pathlib import Path\n",
    "import torch\n",
    "import numpy as np\n",
    "from matplotlib import pyplot\n",
    "import rasterio\n",
    "import fastai\n",
    "from multispectral import corine\n",
    "from multispectral import coords\n",
    "from multispectral import windows\n",
    "from multispectral import tools\n",
    "from multispectral import bands\n",
    "import neptune\n",
    "import infra\n",
    "import zoo\n",
    "\n",
    "neptune.init('denised/landcover')\n",
    "corine.set_corine_directory(os.environ['CORINE_DIR'])\n",
    "windows_list = os.environ['LANDSAT_DIR'] + '/all_windows.csv'"
   ]
  },
  {
   "cell_type": "code",
   "execution_count": 2,
   "metadata": {
    "ExecuteTime": {
     "end_time": "2019-08-22T05:42:46.680768Z",
     "start_time": "2019-08-22T05:42:46.667773Z"
    }
   },
   "outputs": [],
   "source": [
    "import matplotlib\n",
    "matplotlib.rcParams['figure.figsize'] = [15.0,10.0]"
   ]
  },
  {
   "cell_type": "code",
   "execution_count": 3,
   "metadata": {
    "ExecuteTime": {
     "end_time": "2019-08-22T05:42:51.044681Z",
     "start_time": "2019-08-22T05:42:48.826258Z"
    }
   },
   "outputs": [],
   "source": [
    "allwindows = windows.from_file(windows_list)\n",
    "(tr_list, val_list) = windows.randomized_split(allwindows)\n",
    "print(len(tr_list), len(val_list))"
   ]
  },
  {
   "cell_type": "code",
   "execution_count": 6,
   "metadata": {},
   "outputs": [],
   "source": [
    "#learner = zoo.Simple.create(tr_list,val_list,[6,20,30,11])\n",
    "#learner = zoo.ImageUResNet.create(tr_list,val_list)\n",
    "#learner = infra.LearnerPlus.create_from_file('resnet18.pkl', tr_list, val_list)\n",
    "learner = zoo.MultiUResNet.create(tr_list,val_list)"
   ]
  },
  {
   "cell_type": "code",
   "execution_count": null,
   "metadata": {},
   "outputs": [],
   "source": [
    "learner.lr_find()"
   ]
  },
  {
   "cell_type": "code",
   "execution_count": 8,
   "metadata": {},
   "outputs": [],
   "source": [
    "learner.recorder.plot()"
   ]
  },
  {
   "cell_type": "code",
   "execution_count": 16,
   "metadata": {},
   "outputs": [],
   "source": [
    "?learner.fit_one_cycle"
   ]
  },
  {
   "cell_type": "code",
   "execution_count": 7,
   "metadata": {},
   "outputs": [],
   "source": [
    "learner.fit_one_cycle(1)"
   ]
  },
  {
   "cell_type": "code",
   "execution_count": 21,
   "metadata": {},
   "outputs": [],
   "source": [
    "exp = neptune.create_experiment('resnet18 repeat')"
   ]
  },
  {
   "cell_type": "code",
   "execution_count": 8,
   "metadata": {},
   "outputs": [],
   "source": [
    "learner.export('models/multiresnet18.pkl')"
   ]
  },
  {
   "cell_type": "code",
   "execution_count": 9,
   "metadata": {},
   "outputs": [],
   "source": [
    "predset = tools.get_prediction_set(learner, tr_list[:20])"
   ]
  },
  {
   "cell_type": "code",
   "execution_count": 10,
   "metadata": {},
   "outputs": [],
   "source": [
    "collapsedpreds = tools.collapse_predictions(predset)"
   ]
  },
  {
   "cell_type": "code",
   "execution_count": 11,
   "metadata": {},
   "outputs": [],
   "source": [
    "tools.show_predictions(collapsedpreds)"
   ]
  },
  {
   "cell_type": "code",
   "execution_count": 13,
   "metadata": {},
   "outputs": [],
   "source": [
    "tools.plot_image_stats(predset.targets,band_labels=bands.CORINE_BANDS)"
   ]
  },
  {
   "cell_type": "code",
   "execution_count": 14,
   "metadata": {},
   "outputs": [],
   "source": [
    "tools.plot_image_stats(predset.predictions,band_labels=bands.CORINE_BANDS)"
   ]
  },
  {
   "cell_type": "code",
   "execution_count": null,
   "metadata": {},
   "outputs": [],
   "source": []
  }
 ],
 "metadata": {
  "kernelspec": {
   "display_name": "Python [conda env:fastai]",
   "language": "python",
   "name": "conda-env-fastai-py"
  },
  "language_info": {
   "codemirror_mode": {
    "name": "ipython",
    "version": 3
   },
   "file_extension": ".py",
   "mimetype": "text/x-python",
   "name": "python",
   "nbconvert_exporter": "python",
   "pygments_lexer": "ipython3",
   "version": "3.6.7"
  }
 },
 "nbformat": 4,
 "nbformat_minor": 2
}