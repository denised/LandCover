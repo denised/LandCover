{
 "cells": [
  {
   "cell_type": "markdown",
   "metadata": {},
   "source": [
    "# Fetch a random set of tiles from Landsat\n",
    "\n",
    "The code in this notebook selects a random subset of the landsat tiles listed in landsat5list.py (which are landsat5 tiles that cover the same space & time as the corine dataset).\n",
    "To use this notebook, you need to have a USGS account, and have the username and password in the USGS_USER and USGS_PASSWORD environment variables, respectively.  \n",
    "\n",
    "Towards the bottom of the notebook are recommended methods to make sure that the retrieved tiles are actually useful, and to prevent unuseful ones from being downloaded again."
   ]
  },
  {
   "cell_type": "code",
   "execution_count": 1,
   "metadata": {
    "ExecuteTime": {
     "end_time": "2018-12-02T07:33:20.073558Z",
     "start_time": "2018-12-02T07:33:20.008475Z"
    },
    "init_cell": true
   },
   "outputs": [],
   "source": [
    "from landsat5fetch import *\n",
    "from pathlib import Path"
   ]
  },
  {
   "cell_type": "code",
   "execution_count": 2,
   "metadata": {
    "ExecuteTime": {
     "end_time": "2018-11-30T09:48:38.943754Z",
     "start_time": "2018-11-30T09:48:38.938800Z"
    }
   },
   "outputs": [],
   "source": [
    "s = get_session()"
   ]
  },
  {
   "cell_type": "code",
   "execution_count": 3,
   "metadata": {
    "ExecuteTime": {
     "end_time": "2018-12-02T04:53:10.530210Z",
     "start_time": "2018-12-02T04:53:10.393036Z"
    },
    "init_cell": true
   },
   "outputs": [],
   "source": [
    "import numpy as np\n",
    "import landsat5list\n",
    "storage_directory = Path('/storage/data/landsat5')\n",
    "lst = np.array(landsat5list.potential_tiles)\n",
    "wehave = list(storage_directory.glob('*.tif'))\n",
    "candidates = list(set(lst) - set( [x.stem for x in wehave ]))\n",
    "print( len(lst), len(wehave), len(candidates) )"
   ]
  },
  {
   "cell_type": "code",
   "execution_count": 10,
   "metadata": {
    "ExecuteTime": {
     "end_time": "2018-12-02T04:53:15.804496Z",
     "start_time": "2018-12-02T04:53:15.775673Z"
    }
   },
   "outputs": [],
   "source": [
    "# USGS seems to have a limit of 20 that it will allow you to request at a time\n",
    "\n",
    "np.random.shuffle(candidates)\n",
    "tofetch = list(candidates[:20])\n",
    "tofetch"
   ]
  },
  {
   "cell_type": "code",
   "execution_count": 11,
   "metadata": {
    "ExecuteTime": {
     "end_time": "2018-12-02T07:20:26.735529Z",
     "start_time": "2018-12-02T07:20:25.370614Z"
    }
   },
   "outputs": [],
   "source": [
    "submit_order(list(tofetch))\n",
    "# Note: if you get a 400 (BAD REQUEST) error, it is probably because you've exceeded some resource limit, not actually a bad request"
   ]
  },
  {
   "cell_type": "code",
   "execution_count": 7,
   "metadata": {
    "ExecuteTime": {
     "end_time": "2018-12-02T09:53:01.854610Z",
     "start_time": "2018-12-02T09:53:01.081833Z"
    }
   },
   "outputs": [],
   "source": [
    "get_open_orders()"
   ]
  },
  {
   "cell_type": "code",
   "execution_count": 4,
   "metadata": {
    "ExecuteTime": {
     "end_time": "2018-12-02T09:57:28.277362Z",
     "start_time": "2018-12-02T09:53:58.938599Z"
    }
   },
   "outputs": [],
   "source": [
    "downloaded = download_available_results(storage_directory)\n",
    "len(downloaded)"
   ]
  },
  {
   "cell_type": "code",
   "execution_count": null,
   "metadata": {},
   "outputs": [],
   "source": [
    "# ls5munge.sh processes the data from the form we get it from landsat (a gzipped tar file) into the form we will use (a tif file)\n",
    "# Ideally we'd do the landsat tile processing from here in the notebook, but it doesn't work, because I have not found any way to activate the right conda environment \n",
    "# from within a notebook. So for now, you have to open a terminal, activate fastai environment, then run ls5munge.sh manually.\n",
    "#\n",
    "# Usage:  ./ls5munge.sh /home/usgs/landsat5/*.tar.gz\n",
    "#\n",
    "# Note: it will automatically skip files that already have .tif, so you don't have to worry about telling it exactly which ones are the new ones."
   ]
  },
  {
   "cell_type": "code",
   "execution_count": 4,
   "metadata": {},
   "outputs": [],
   "source": [
    "import numpy as np\n",
    "from pathlib import Path\n",
    "import sys\n",
    "sys.path.append('/home/firewise/')  # add parent to python path so that we can import some tools...\n",
    "from multispectral import corine\n",
    "from multispectral import coords\n",
    "from multispectral import tools\n",
    "import rasterio\n",
    "tools.set_figure_width(20)"
   ]
  },
  {
   "cell_type": "code",
   "execution_count": 5,
   "metadata": {},
   "outputs": [],
   "source": [
    "#tocheck = list(Path('/home/usgs/landsat5').glob('*.tif'))\n",
    "tocheck = [ Path('/home/usgs/landsat5') / (x + \".tif\") for x in downloaded ]\n",
    "len(tocheck)"
   ]
  },
  {
   "cell_type": "code",
   "execution_count": 7,
   "metadata": {},
   "outputs": [],
   "source": [
    "# Not all the files in landsat5list.py will actually be useful.\n",
    "# The checking here is similar to what we do in window generation, but in this case we are looking\n",
    "# at the *entire* landsat file at once.  This loop will find tiles that can't have any valid windows\n",
    "# (e.g. because they only intersect an empty part of corine).\n",
    "# Files identified here should both be removed from the storage directory and commented out of landsat5list.py --- in fact\n",
    "# all files with the same pathrow combo --- so that we don't download them again.\n",
    "\n",
    "\n",
    "def smudge(pw1, pw2):\n",
    "    \"\"\"Due to rounding errors, it is possible that the same geo window results in pixel windows of two different sizes\n",
    "    for different data files.  Smudge adjusts a matching pair of pixel windows so that they are definitely the same\n",
    "    size.   Currently nothing clever here about geo registration; just making the height/width match.\"\"\"\n",
    "    common_height = min(pw1.height,pw2.height)\n",
    "    common_width = min(pw1.width,pw2.width)\n",
    "    if pw1.width != common_width or pw1.height != common_height:\n",
    "        pw1 = rasterio.windows.Window(pw1.col_off,pw1.row_off,common_width,common_height)\n",
    "    if pw2.width != common_width or pw2.height != common_height:\n",
    "        pw2 = rasterio.windows.Window(pw2.col_off,pw2.row_off,common_width,common_height)\n",
    "    return (pw1,pw2)\n",
    "\n",
    "\n",
    "failed = []\n",
    "for file in tocheck:\n",
    "    fp = rasterio.open(file)\n",
    "    cp = corine.fetch_corine(fp.crs)\n",
    "    geo_common = coords.geo_window_intersect(fp.bounds,cp.bounds)\n",
    "    if geo_common is None:\n",
    "        # This case shouldn't happen, and probably should be investigated.\n",
    "        failed.append(file)\n",
    "        print(\"{} does not intersect {}\".format(file.name, cp.name))\n",
    "        continue\n",
    "    \n",
    "    fp_window = coords.geo_to_pixel(fp,geo_common)\n",
    "    cp_window = coords.geo_to_pixel(cp,geo_common)\n",
    "    (fp_window,cp_window) = smudge(fp_window,cp_window)\n",
    "    \n",
    "    # check to see if the non-nodata bits overlap\n",
    "    fp_patch = fp.read(7, window=fp_window)\n",
    "    if not fp_patch.any():\n",
    "        failed.append(file)\n",
    "        print(\"{} is empty in intersection\".format(file.name))\n",
    "        continue\n",
    "        \n",
    "    cp_patch = cp.read(1, window=cp_window)\n",
    "    if not cp_patch.any():\n",
    "        failed.append(file)\n",
    "        print(\"{} intersects empty part of corine\".format(file.name))\n",
    "        continue\n",
    "    \n",
    "    common_data = np.logical_and(fp_patch,cp_patch)\n",
    "    if not common_data.any():\n",
    "        failed.append(file)\n",
    "        print(\"{} and {} have no common data\".format(file.name, cp.name))\n",
    "    "
   ]
  },
  {
   "cell_type": "code",
   "execution_count": 8,
   "metadata": {},
   "outputs": [],
   "source": [
    "failed"
   ]
  },
  {
   "cell_type": "code",
   "execution_count": null,
   "metadata": {},
   "outputs": [],
   "source": [
    "# Show the location of the (all|failed) tiles.  You should generally expect failed tiles to be visibly outside or on the edge of the corine data.\n",
    "# If they are not, it may mean the landsat data is corrupted, or a bug, or...\n",
    "\n",
    "for file in tocheck:  # check tocheck to see all files, failed to only see failed files\n",
    "    fp = rasterio.open(file)\n",
    "    cp = corine.fetch_corine(fp.crs)\n",
    "    tools.show_bands(cp,1,showrect=coords.geo_to_pixel(cp,fp.bounds).flatten())"
   ]
  },
  {
   "cell_type": "code",
   "execution_count": null,
   "metadata": {},
   "outputs": [],
   "source": []
  }
 ],
 "metadata": {
  "celltoolbar": "Initialization Cell",
  "kernelspec": {
   "display_name": "Python [conda env:fastai2]",
   "language": "python",
   "name": "conda-env-fastai2-py"
  },
  "language_info": {
   "codemirror_mode": {
    "name": "ipython",
    "version": 3
   },
   "file_extension": ".py",
   "mimetype": "text/x-python",
   "name": "python",
   "nbconvert_exporter": "python",
   "pygments_lexer": "ipython3",
   "version": "3.7.0"
  }
 },
 "nbformat": 4,
 "nbformat_minor": 2
}