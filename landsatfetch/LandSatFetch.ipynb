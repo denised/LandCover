{
 "cells": [
  {
   "cell_type": "code",
   "execution_count": 2,
   "metadata": {
    "ExecuteTime": {
     "end_time": "2018-12-02T04:53:41.773671Z",
     "start_time": "2018-12-02T04:53:41.766861Z"
    },
    "init_cell": true
   },
   "outputs": [],
   "source": [
    "os.environ['USGS_USER'] = 'draperdl'\n",
    "os.environ['USGS_PASSWORD'] = 'b8PrzH63Oa8O'"
   ]
  },
  {
   "cell_type": "code",
   "execution_count": 1,
   "metadata": {
    "ExecuteTime": {
     "end_time": "2018-12-02T07:33:20.073558Z",
     "start_time": "2018-12-02T07:33:20.008475Z"
    },
    "init_cell": true
   },
   "outputs": [],
   "source": [
    "# %load datamanager/landsat5sr.py\n",
    "import requests\n",
    "import os\n",
    "from pathlib import Path\n",
    "from concurrent.futures import ThreadPoolExecutor\n",
    "\n",
    "usgs_host = 'https://espa.cr.usgs.gov/api/v0'\n",
    "storage_directory = \"/home/usgs/landsat5\"\n",
    "\n",
    "def default_auth():\n",
    "    return (os.environ['USGS_USER'], os.environ['USGS_PASSWORD'])\n",
    "\n",
    "def get_session(auth=None):\n",
    "    if not hasattr(get_session,'s'):\n",
    "        get_session.s = requests.Session()\n",
    "        get_session.s.auth = auth if auth else default_auth()\n",
    "    return get_session.s\n",
    "\n",
    "\n",
    "def submit_order(list_of_ids):\n",
    "    \"\"\"Submit an order for the given list of landsat ids.\n",
    "    For now, we are hardwiring all other parameters of the request (landsat5,\n",
    "    sr, etc.)\"\"\"\n",
    "    if len(list_of_ids) >= 5000:\n",
    "        raise ValueError(\"Too many ids in a single request\")\n",
    "    # Build order body.  We aren't using any of the fancy options,\n",
    "    # so this is quite simple\n",
    "    order = {\n",
    "        'tm5_collection': { \n",
    "            'inputs': list_of_ids,\n",
    "            'products': ['sr']\n",
    "        },\n",
    "        'format': 'gtiff'\n",
    "    }\n",
    "    # send the order\n",
    "    s = get_session()\n",
    "    response = s.post(usgs_host+'/order',json=order)\n",
    "\n",
    "    # error checking\n",
    "    response.raise_for_status() # errors out if 404 etc.\n",
    "    data = response.json()\n",
    "    status = data['status'] if 'status' in data else 'unknown'\n",
    "    if status != 'ordered':\n",
    "        raise Exception('Order failed with status '+status)\n",
    "\n",
    "    # return order id\n",
    "    return data['orderid']\n",
    "\n",
    "\n",
    "def get_order_status(id):\n",
    "    s = get_session()\n",
    "    response = s.get(usgs_host+'/order-status/'+id)\n",
    "    response.raise_for_status()\n",
    "    data = response.json()\n",
    "    return data['status']\n",
    "\n",
    "# copied directly from the epsg code... and wrong! (added 'ordered' status)\n",
    "valid_statuses = ['ordered', 'complete', 'queued', 'oncache', 'onorder', 'purged',\n",
    "                      'processing', 'error', 'unavailable', 'submitted']\n",
    "all_but_purged = valid_statuses[:]\n",
    "all_but_purged.remove('purged')\n",
    "\n",
    "def get_open_orders():\n",
    "    \"\"\"Get the list and status of all orders that have not been purged\"\"\"\n",
    "    s = get_session()\n",
    "    response = s.get(usgs_host+'/list-orders', json={\"status\": all_but_purged })\n",
    "    response.raise_for_status()\n",
    "    return response.json()\n",
    "\n",
    "\n",
    "def download_file(url,saveas):\n",
    "    \"\"\"Download a file, saving it in the path requested.  Overwrites existing file.\"\"\"\n",
    "    s = get_session()\n",
    "    response = s.get(url,stream=True)\n",
    "    with open(saveas,'wb') as out:\n",
    "        for chunk in response.iter_content(chunk_size=65535):\n",
    "            out.write(chunk)\n",
    "\n",
    "def process_item(item):\n",
    "    \"\"\"Take the information about a single item (data file) and decide what to do about it:\n",
    "    ignore it (if it is not ready or if we already have it) or download it (if it is new and ready)\"\"\"\n",
    "    if item['status'] == 'complete':\n",
    "        file = Path(storage_directory) / (item['name'] + '.tar.gz')\n",
    "        if not file.exists():\n",
    "            print('starting download of ' + item['name'])\n",
    "            download_file(item['product_dload_url'],file)\n",
    "            return\n",
    "    print(\"xxx ignoring \" + item['name'] + \" xxx\")\n",
    "\n",
    "\n",
    "def download_available_results():\n",
    "    \"\"\"Download any products that are ready and have not previously been\n",
    "    downloaded.\"\"\"\n",
    "    s = get_session()\n",
    "    orders = get_open_orders()\n",
    "    # usgs doesn't like it if you parallelize this loop, so we don't anymore\n",
    "    for orderid in orders:\n",
    "        response = s.get(usgs_host+'/item-status/'+orderid, json={\"status\": \"complete\"})\n",
    "        response.raise_for_status()\n",
    "        data = response.json()\n",
    "        for item in data[orderid]:\n",
    "            process_item(item)\n",
    "    print(\"download complete\")\n"
   ]
  },
  {
   "cell_type": "code",
   "execution_count": 3,
   "metadata": {
    "ExecuteTime": {
     "end_time": "2018-11-30T09:48:38.943754Z",
     "start_time": "2018-11-30T09:48:38.938800Z"
    }
   },
   "outputs": [],
   "source": [
    "s = get_session()"
   ]
  },
  {
   "cell_type": "code",
   "execution_count": 4,
   "metadata": {
    "ExecuteTime": {
     "end_time": "2018-11-30T10:19:43.154479Z",
     "start_time": "2018-11-30T10:19:42.850288Z"
    }
   },
   "outputs": [
    {
     "data": {
      "text/plain": [
       "['espa-draperd@acm.org-05202019-024719-003']"
      ]
     },
     "execution_count": 4,
     "metadata": {},
     "output_type": "execute_result"
    }
   ],
   "source": [
    "get_open_orders()"
   ]
  },
  {
   "cell_type": "code",
   "execution_count": 11,
   "metadata": {
    "ExecuteTime": {
     "end_time": "2018-11-29T10:02:49.491314Z",
     "start_time": "2018-11-29T10:02:49.189683Z"
    }
   },
   "outputs": [
    {
     "data": {
      "text/plain": [
       "'complete'"
      ]
     },
     "execution_count": 11,
     "metadata": {},
     "output_type": "execute_result"
    }
   ],
   "source": [
    "get_order_status('espa-draperd@acm.org-0101811265895')"
   ]
  },
  {
   "cell_type": "code",
   "execution_count": 4,
   "metadata": {
    "ExecuteTime": {
     "end_time": "2018-11-30T09:48:53.244934Z",
     "start_time": "2018-11-30T09:48:52.416273Z"
    }
   },
   "outputs": [],
   "source": [
    "response = s.get(usgs_host+'/item-status/'+'espa-draperd@acm.org-0101811265895')"
   ]
  },
  {
   "cell_type": "code",
   "execution_count": 5,
   "metadata": {
    "ExecuteTime": {
     "end_time": "2018-11-30T09:48:56.891461Z",
     "start_time": "2018-11-30T09:48:56.872071Z"
    }
   },
   "outputs": [
    {
     "data": {
      "text/plain": [
       "{'espa-draperd@acm.org-0101811265895': [{'cksum_download_url': 'https://edclpdsftp.cr.usgs.gov/orders/espa-draperd@acm.org-0101811265895/LT051950232006110901T2-SC20181126211541.md5',\n",
       "   'completion_date': '2018-11-26 21:16:23.211489',\n",
       "   'name': 'LT05_L1GS_195023_20061109_20180312_01_T2',\n",
       "   'note': \"''\",\n",
       "   'product_dload_url': 'https://edclpdsftp.cr.usgs.gov/orders/espa-draperd@acm.org-0101811265895/LT051950232006110901T2-SC20181126211541.tar.gz',\n",
       "   'status': 'complete'}]}"
      ]
     },
     "execution_count": 5,
     "metadata": {},
     "output_type": "execute_result"
    }
   ],
   "source": [
    "response.json()"
   ]
  },
  {
   "cell_type": "code",
   "execution_count": 7,
   "metadata": {
    "ExecuteTime": {
     "end_time": "2018-11-30T09:52:53.030563Z",
     "start_time": "2018-11-30T09:49:14.606431Z"
    }
   },
   "outputs": [
    {
     "name": "stdout",
     "output_type": "stream",
     "text": [
      "starting download of LT05_L1GS_195023_20061109_20180312_01_T2\n"
     ]
    }
   ],
   "source": [
    "process_item(response.json()['espa-draperd@acm.org-0101811265895'][0])"
   ]
  },
  {
   "cell_type": "code",
   "execution_count": 6,
   "metadata": {
    "ExecuteTime": {
     "end_time": "2018-11-30T09:49:08.148267Z",
     "start_time": "2018-11-30T09:49:08.028588Z"
    }
   },
   "outputs": [],
   "source": [
    "!rm /home/usgs/landsat5/*"
   ]
  },
  {
   "cell_type": "code",
   "execution_count": 6,
   "metadata": {
    "ExecuteTime": {
     "end_time": "2018-12-02T04:28:24.550710Z",
     "start_time": "2018-12-02T04:28:23.500788Z"
    }
   },
   "outputs": [
    {
     "name": "stdout",
     "output_type": "stream",
     "text": [
      "{'tm5_collection': {'inputs': ['LT05_L1TP_168035_20061128_20180309_01_T1', 'LT05_L1TP_168035_20061214_20180309_01_T1'], 'products': ['sr']}, 'format': 'gtiff'}\n"
     ]
    },
    {
     "data": {
      "text/plain": [
       "'espa-draperd@acm.org-12012018-222824-456'"
      ]
     },
     "execution_count": 6,
     "metadata": {},
     "output_type": "execute_result"
    }
   ],
   "source": [
    "submit_order([\"LT05_L1TP_168035_20061128_20180309_01_T1\", \"LT05_L1TP_168035_20061214_20180309_01_T1\"])"
   ]
  },
  {
   "cell_type": "code",
   "execution_count": 17,
   "metadata": {
    "ExecuteTime": {
     "end_time": "2018-12-02T07:32:31.215991Z",
     "start_time": "2018-12-02T07:32:30.903531Z"
    }
   },
   "outputs": [
    {
     "data": {
      "text/plain": [
       "'ordered'"
      ]
     },
     "execution_count": 17,
     "metadata": {},
     "output_type": "execute_result"
    }
   ],
   "source": [
    "get_order_status('espa-draperd@acm.org-12022018-012026-667')"
   ]
  },
  {
   "cell_type": "code",
   "execution_count": 7,
   "metadata": {
    "ExecuteTime": {
     "end_time": "2018-12-02T04:53:10.530210Z",
     "start_time": "2018-12-02T04:53:10.393036Z"
    },
    "init_cell": true
   },
   "outputs": [],
   "source": [
    "import numpy as np\n",
    "import landsat5list\n",
    "lst = np.array(landsat5list.potential_tiles)"
   ]
  },
  {
   "cell_type": "code",
   "execution_count": 8,
   "metadata": {
    "ExecuteTime": {
     "end_time": "2018-12-02T04:53:15.804496Z",
     "start_time": "2018-12-02T04:53:15.775673Z"
    }
   },
   "outputs": [
    {
     "data": {
      "text/plain": [
       "['LT05_L1TP_189027_20060726_20161120_01_T1',\n",
       " 'LT05_L1TP_197032_20060515_20180310_01_T1',\n",
       " 'LT05_L1TP_176034_20060901_20161119_01_T1',\n",
       " 'LT05_L1TP_201016_20060916_20161118_01_T1',\n",
       " 'LT05_L1TP_175034_20060825_20161119_01_T1',\n",
       " 'LT05_L1TP_182033_20060810_20180310_01_T1',\n",
       " 'LT05_L1TP_176034_20060917_20161118_01_T1',\n",
       " 'LT05_L1TP_173034_20060912_20161118_01_T1',\n",
       " 'LT05_L1TP_190017_20060717_20161120_01_T1',\n",
       " 'LT05_L1TP_169035_20061018_20161119_01_T1']"
      ]
     },
     "execution_count": 8,
     "metadata": {},
     "output_type": "execute_result"
    }
   ],
   "source": [
    "np.random.shuffle(lst)\n",
    "tofetch = list(lst[:10])\n",
    "tofetch"
   ]
  },
  {
   "cell_type": "code",
   "execution_count": 9,
   "metadata": {
    "ExecuteTime": {
     "end_time": "2018-12-02T07:20:26.735529Z",
     "start_time": "2018-12-02T07:20:25.370614Z"
    }
   },
   "outputs": [
    {
     "data": {
      "text/plain": [
       "'espa-draperd@acm.org-05202019-024719-003'"
      ]
     },
     "execution_count": 9,
     "metadata": {},
     "output_type": "execute_result"
    }
   ],
   "source": [
    "submit_order(list(tofetch))"
   ]
  },
  {
   "cell_type": "code",
   "execution_count": 10,
   "metadata": {
    "ExecuteTime": {
     "end_time": "2018-12-02T09:53:01.854610Z",
     "start_time": "2018-12-02T09:53:01.081833Z"
    }
   },
   "outputs": [
    {
     "data": {
      "text/plain": [
       "['espa-draperd@acm.org-05202019-024719-003']"
      ]
     },
     "execution_count": 10,
     "metadata": {},
     "output_type": "execute_result"
    }
   ],
   "source": [
    "get_open_orders()"
   ]
  },
  {
   "cell_type": "code",
   "execution_count": 21,
   "metadata": {
    "ExecuteTime": {
     "end_time": "2018-12-02T09:53:51.992862Z",
     "start_time": "2018-12-02T09:53:51.691825Z"
    }
   },
   "outputs": [
    {
     "data": {
      "text/plain": [
       "'complete'"
      ]
     },
     "execution_count": 21,
     "metadata": {},
     "output_type": "execute_result"
    }
   ],
   "source": [
    "get_order_status('espa-draperd@acm.org-12012018-222824-456')"
   ]
  },
  {
   "cell_type": "code",
   "execution_count": 5,
   "metadata": {
    "ExecuteTime": {
     "end_time": "2018-12-02T09:57:28.277362Z",
     "start_time": "2018-12-02T09:53:58.938599Z"
    }
   },
   "outputs": [
    {
     "name": "stdout",
     "output_type": "stream",
     "text": [
      "starting download of LT05_L1TP_182033_20060810_20180310_01_T1\n",
      "starting download of LT05_L1TP_169035_20061018_20161119_01_T1\n",
      "starting download of LT05_L1TP_173034_20060912_20161118_01_T1\n",
      "starting download of LT05_L1TP_201016_20060916_20161118_01_T1\n",
      "starting download of LT05_L1TP_197032_20060515_20180310_01_T1\n",
      "starting download of LT05_L1TP_176034_20060917_20161118_01_T1\n",
      "starting download of LT05_L1TP_190017_20060717_20161120_01_T1\n",
      "starting download of LT05_L1TP_176034_20060901_20161119_01_T1\n",
      "starting download of LT05_L1TP_189027_20060726_20161120_01_T1\n",
      "starting download of LT05_L1TP_175034_20060825_20161119_01_T1\n",
      "download complete\n"
     ]
    }
   ],
   "source": [
    "download_available_results()"
   ]
  },
  {
   "cell_type": "code",
   "execution_count": 10,
   "metadata": {},
   "outputs": [
    {
     "name": "stdout",
     "output_type": "stream",
     "text": [
      "Working in temporary directory /tmp/tmp.afIVP5hEgT\n",
      "Processing /home/usgs/landsat5/LT05_L1TP_182033_20060810_20180310_01_T1.tar.gz\n",
      "./ls5munge.sh: line 20: gdalbuildvrt: command not found\n",
      "./ls5munge.sh: line 25: gdal_translate: command not found\n",
      "./ls5munge.sh: line 30: gdal_merge.py: command not found\n"
     ]
    }
   ],
   "source": [
    "!./ls5munge.sh /home/usgs/landsat5/LT05_L1TP_182033_20060810_20180310_01_T1.tar.gz"
   ]
  },
  {
   "cell_type": "code",
   "execution_count": 11,
   "metadata": {},
   "outputs": [],
   "source": [
    "# We have a problem here, because I have not found any way to activate the right conda environment from within a notebook.\n",
    "# So for now, you have to open a terminal, activate fastai, then run ls5munge.sh manually.\n",
    "# (TODO: It would be nice if we automatically determined which files needed to be munged...)"
   ]
  },
  {
   "cell_type": "code",
   "execution_count": null,
   "metadata": {},
   "outputs": [],
   "source": []
  }
 ],
 "metadata": {
  "celltoolbar": "Initialization Cell",
  "kernelspec": {
   "display_name": "Python [conda env:fastai2]",
   "language": "python",
   "name": "conda-env-fastai2-py"
  },
  "language_info": {
   "codemirror_mode": {
    "name": "ipython",
    "version": 3
   },
   "file_extension": ".py",
   "mimetype": "text/x-python",
   "name": "python",
   "nbconvert_exporter": "python",
   "pygments_lexer": "ipython3",
   "version": "3.7.0"
  }
 },
 "nbformat": 4,
 "nbformat_minor": 2
}
