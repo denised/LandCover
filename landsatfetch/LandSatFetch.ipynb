{
 "cells": [
  {
   "cell_type": "code",
   "execution_count": 1,
   "metadata": {
    "ExecuteTime": {
     "end_time": "2018-12-02T07:33:20.073558Z",
     "start_time": "2018-12-02T07:33:20.008475Z"
    },
    "init_cell": true
   },
   "outputs": [],
   "source": [
    "from landsat5fetch import *"
   ]
  },
  {
   "cell_type": "code",
   "execution_count": 2,
   "metadata": {
    "ExecuteTime": {
     "end_time": "2018-11-30T09:48:38.943754Z",
     "start_time": "2018-11-30T09:48:38.938800Z"
    }
   },
   "outputs": [],
   "source": [
    "s = get_session()"
   ]
  },
  {
   "cell_type": "code",
   "execution_count": 4,
   "metadata": {
    "ExecuteTime": {
     "end_time": "2018-11-30T10:19:43.154479Z",
     "start_time": "2018-11-30T10:19:42.850288Z"
    }
   },
   "outputs": [
    {
     "data": {
      "text/plain": [
       "['espa-draperd@acm.org-05202019-024719-003']"
      ]
     },
     "execution_count": 4,
     "metadata": {},
     "output_type": "execute_result"
    }
   ],
   "source": [
    "get_open_orders()"
   ]
  },
  {
   "cell_type": "code",
   "execution_count": 11,
   "metadata": {
    "ExecuteTime": {
     "end_time": "2018-11-29T10:02:49.491314Z",
     "start_time": "2018-11-29T10:02:49.189683Z"
    }
   },
   "outputs": [
    {
     "data": {
      "text/plain": [
       "'complete'"
      ]
     },
     "execution_count": 11,
     "metadata": {},
     "output_type": "execute_result"
    }
   ],
   "source": [
    "get_order_status('espa-draperd@acm.org-0101811265895')"
   ]
  },
  {
   "cell_type": "code",
   "execution_count": 4,
   "metadata": {
    "ExecuteTime": {
     "end_time": "2018-11-30T09:48:53.244934Z",
     "start_time": "2018-11-30T09:48:52.416273Z"
    }
   },
   "outputs": [],
   "source": [
    "response = s.get(usgs_host+'/item-status/'+'espa-draperd@acm.org-0101811265895')"
   ]
  },
  {
   "cell_type": "code",
   "execution_count": 5,
   "metadata": {
    "ExecuteTime": {
     "end_time": "2018-11-30T09:48:56.891461Z",
     "start_time": "2018-11-30T09:48:56.872071Z"
    }
   },
   "outputs": [
    {
     "data": {
      "text/plain": [
       "{'espa-draperd@acm.org-0101811265895': [{'cksum_download_url': 'https://edclpdsftp.cr.usgs.gov/orders/espa-draperd@acm.org-0101811265895/LT051950232006110901T2-SC20181126211541.md5',\n",
       "   'completion_date': '2018-11-26 21:16:23.211489',\n",
       "   'name': 'LT05_L1GS_195023_20061109_20180312_01_T2',\n",
       "   'note': \"''\",\n",
       "   'product_dload_url': 'https://edclpdsftp.cr.usgs.gov/orders/espa-draperd@acm.org-0101811265895/LT051950232006110901T2-SC20181126211541.tar.gz',\n",
       "   'status': 'complete'}]}"
      ]
     },
     "execution_count": 5,
     "metadata": {},
     "output_type": "execute_result"
    }
   ],
   "source": [
    "response.json()"
   ]
  },
  {
   "cell_type": "code",
   "execution_count": 7,
   "metadata": {
    "ExecuteTime": {
     "end_time": "2018-11-30T09:52:53.030563Z",
     "start_time": "2018-11-30T09:49:14.606431Z"
    }
   },
   "outputs": [
    {
     "name": "stdout",
     "output_type": "stream",
     "text": [
      "starting download of LT05_L1GS_195023_20061109_20180312_01_T2\n"
     ]
    }
   ],
   "source": [
    "process_item(response.json()['espa-draperd@acm.org-0101811265895'][0])"
   ]
  },
  {
   "cell_type": "code",
   "execution_count": 6,
   "metadata": {
    "ExecuteTime": {
     "end_time": "2018-11-30T09:49:08.148267Z",
     "start_time": "2018-11-30T09:49:08.028588Z"
    }
   },
   "outputs": [],
   "source": [
    "!rm /home/usgs/landsat5/*"
   ]
  },
  {
   "cell_type": "code",
   "execution_count": 6,
   "metadata": {
    "ExecuteTime": {
     "end_time": "2018-12-02T04:28:24.550710Z",
     "start_time": "2018-12-02T04:28:23.500788Z"
    }
   },
   "outputs": [
    {
     "name": "stdout",
     "output_type": "stream",
     "text": [
      "{'tm5_collection': {'inputs': ['LT05_L1TP_168035_20061128_20180309_01_T1', 'LT05_L1TP_168035_20061214_20180309_01_T1'], 'products': ['sr']}, 'format': 'gtiff'}\n"
     ]
    },
    {
     "data": {
      "text/plain": [
       "'espa-draperd@acm.org-12012018-222824-456'"
      ]
     },
     "execution_count": 6,
     "metadata": {},
     "output_type": "execute_result"
    }
   ],
   "source": [
    "submit_order([\"LT05_L1TP_168035_20061128_20180309_01_T1\", \"LT05_L1TP_168035_20061214_20180309_01_T1\"])"
   ]
  },
  {
   "cell_type": "code",
   "execution_count": 17,
   "metadata": {
    "ExecuteTime": {
     "end_time": "2018-12-02T07:32:31.215991Z",
     "start_time": "2018-12-02T07:32:30.903531Z"
    }
   },
   "outputs": [
    {
     "data": {
      "text/plain": [
       "'ordered'"
      ]
     },
     "execution_count": 17,
     "metadata": {},
     "output_type": "execute_result"
    }
   ],
   "source": [
    "get_order_status('espa-draperd@acm.org-12022018-012026-667')"
   ]
  },
  {
   "cell_type": "code",
   "execution_count": 24,
   "metadata": {
    "ExecuteTime": {
     "end_time": "2018-12-02T04:53:10.530210Z",
     "start_time": "2018-12-02T04:53:10.393036Z"
    },
    "init_cell": true
   },
   "outputs": [
    {
     "data": {
      "text/plain": [
       "1894"
      ]
     },
     "execution_count": 24,
     "metadata": {},
     "output_type": "execute_result"
    }
   ],
   "source": [
    "import numpy as np\n",
    "import landsat5list\n",
    "lst = np.array(landsat5list.potential_tiles)\n",
    "len(lst)"
   ]
  },
  {
   "cell_type": "code",
   "execution_count": 4,
   "metadata": {
    "ExecuteTime": {
     "end_time": "2018-12-02T04:53:15.804496Z",
     "start_time": "2018-12-02T04:53:15.775673Z"
    }
   },
   "outputs": [
    {
     "data": {
      "text/plain": [
       "['LT05_L1TP_184031_20060925_20180309_01_T1',\n",
       " 'LT05_L1TP_183028_20061020_20161118_01_T1',\n",
       " 'LT05_L1TP_169035_20060916_20161119_01_T1',\n",
       " 'LT05_L1TP_198020_20060911_20161118_01_T1',\n",
       " 'LT05_L1TP_194019_20061102_20180309_01_T1',\n",
       " 'LT05_L1TP_201019_20060220_20180311_01_T1',\n",
       " 'LT05_L1TP_201016_20060916_20161118_01_T1',\n",
       " 'LT05_L1TP_203021_20060423_20180309_01_T1',\n",
       " 'LT05_L1TP_181035_20061006_20161118_01_T1',\n",
       " 'LT05_L1TP_197018_20060616_20161121_01_T1',\n",
       " 'LT05_L1TP_186027_20060907_20161119_01_T1',\n",
       " 'LT05_L1TP_199020_20060716_20161120_01_T1',\n",
       " 'LT05_L1TP_192017_20060426_20161122_01_T1',\n",
       " 'LT05_L1TP_183031_20061207_20180309_01_T1',\n",
       " 'LT05_L1TP_173036_20060928_20161118_01_T1',\n",
       " 'LT05_L1TP_196024_20060508_20161121_01_T1',\n",
       " 'LT05_L1TP_201018_20060220_20180311_01_T1',\n",
       " 'LT05_L1TP_185033_20060730_20161120_01_T1',\n",
       " 'LT05_L1TP_181034_20060531_20161121_01_T1',\n",
       " 'LT05_L1TP_184026_20061027_20161118_01_T1']"
      ]
     },
     "execution_count": 4,
     "metadata": {},
     "output_type": "execute_result"
    }
   ],
   "source": [
    "np.random.shuffle(lst)\n",
    "tofetch = list(lst[:20])\n",
    "tofetch"
   ]
  },
  {
   "cell_type": "code",
   "execution_count": 5,
   "metadata": {
    "ExecuteTime": {
     "end_time": "2018-12-02T07:20:26.735529Z",
     "start_time": "2018-12-02T07:20:25.370614Z"
    }
   },
   "outputs": [
    {
     "data": {
      "text/plain": [
       "'espa-draperd@acm.org-05292019-025559-954'"
      ]
     },
     "execution_count": 5,
     "metadata": {},
     "output_type": "execute_result"
    }
   ],
   "source": [
    "submit_order(list(tofetch))"
   ]
  },
  {
   "cell_type": "code",
   "execution_count": 6,
   "metadata": {
    "ExecuteTime": {
     "end_time": "2018-12-02T09:53:01.854610Z",
     "start_time": "2018-12-02T09:53:01.081833Z"
    }
   },
   "outputs": [
    {
     "data": {
      "text/plain": [
       "['espa-draperd@acm.org-05292019-025559-954']"
      ]
     },
     "execution_count": 6,
     "metadata": {},
     "output_type": "execute_result"
    }
   ],
   "source": [
    "get_open_orders()"
   ]
  },
  {
   "cell_type": "code",
   "execution_count": 21,
   "metadata": {
    "ExecuteTime": {
     "end_time": "2018-12-02T09:53:51.992862Z",
     "start_time": "2018-12-02T09:53:51.691825Z"
    }
   },
   "outputs": [
    {
     "data": {
      "text/plain": [
       "'complete'"
      ]
     },
     "execution_count": 21,
     "metadata": {},
     "output_type": "execute_result"
    }
   ],
   "source": [
    "get_order_status('espa-draperd@acm.org-12012018-222824-456')"
   ]
  },
  {
   "cell_type": "code",
   "execution_count": 7,
   "metadata": {
    "ExecuteTime": {
     "end_time": "2018-12-02T09:57:28.277362Z",
     "start_time": "2018-12-02T09:53:58.938599Z"
    }
   },
   "outputs": [
    {
     "name": "stdout",
     "output_type": "stream",
     "text": [
      "starting download of LT05_L1TP_184026_20061027_20161118_01_T1\n",
      "starting download of LT05_L1TP_184031_20060925_20180309_01_T1\n",
      "starting download of LT05_L1TP_186027_20060907_20161119_01_T1\n",
      "starting download of LT05_L1TP_194019_20061102_20180309_01_T1\n",
      "starting download of LT05_L1TP_183031_20061207_20180309_01_T1\n",
      "starting download of LT05_L1TP_196024_20060508_20161121_01_T1\n",
      "xxx ignoring LT05_L1TP_201016_20060916_20161118_01_T1 xxx\n",
      "starting download of LT05_L1TP_169035_20060916_20161119_01_T1\n",
      "starting download of LT05_L1TP_183028_20061020_20161118_01_T1\n",
      "starting download of LT05_L1TP_197018_20060616_20161121_01_T1\n",
      "starting download of LT05_L1TP_181034_20060531_20161121_01_T1\n",
      "starting download of LT05_L1TP_201018_20060220_20180311_01_T1\n",
      "starting download of LT05_L1TP_173036_20060928_20161118_01_T1\n",
      "starting download of LT05_L1TP_198020_20060911_20161118_01_T1\n",
      "starting download of LT05_L1TP_203021_20060423_20180309_01_T1\n",
      "starting download of LT05_L1TP_199020_20060716_20161120_01_T1\n",
      "starting download of LT05_L1TP_192017_20060426_20161122_01_T1\n",
      "starting download of LT05_L1TP_201019_20060220_20180311_01_T1\n",
      "starting download of LT05_L1TP_181035_20061006_20161118_01_T1\n",
      "starting download of LT05_L1TP_185033_20060730_20161120_01_T1\n",
      "download complete\n"
     ]
    }
   ],
   "source": [
    "download_available_results()"
   ]
  },
  {
   "cell_type": "code",
   "execution_count": 10,
   "metadata": {},
   "outputs": [
    {
     "name": "stdout",
     "output_type": "stream",
     "text": [
      "Working in temporary directory /tmp/tmp.afIVP5hEgT\n",
      "Processing /home/usgs/landsat5/LT05_L1TP_182033_20060810_20180310_01_T1.tar.gz\n",
      "./ls5munge.sh: line 20: gdalbuildvrt: command not found\n",
      "./ls5munge.sh: line 25: gdal_translate: command not found\n",
      "./ls5munge.sh: line 30: gdal_merge.py: command not found\n"
     ]
    }
   ],
   "source": [
    "!./ls5munge.sh /home/usgs/landsat5/LT05_L1TP_182033_20060810_20180310_01_T1.tar.gz"
   ]
  },
  {
   "cell_type": "code",
   "execution_count": 11,
   "metadata": {},
   "outputs": [],
   "source": [
    "# We have a problem here, because I have not found any way to activate the right conda environment from within a notebook.\n",
    "# So for now, you have to open a terminal, activate fastai, then run ls5munge.sh manually."
   ]
  },
  {
   "cell_type": "code",
   "execution_count": 12,
   "metadata": {},
   "outputs": [],
   "source": [
    "import numpy as np\n",
    "from pathlib import Path\n",
    "import sys\n",
    "sys.path.append('/home/firewise/')\n",
    "from multispectral import corine\n",
    "from multispectral import coords\n",
    "import rasterio"
   ]
  },
  {
   "cell_type": "code",
   "execution_count": 8,
   "metadata": {},
   "outputs": [],
   "source": [
    "allwehave = list(Path('/home/usgs/landsat5').glob('*.tif'))\n",
    "len(allwehave)"
   ]
  },
  {
   "cell_type": "code",
   "execution_count": 22,
   "metadata": {},
   "outputs": [
    {
     "name": "stdout",
     "output_type": "stream",
     "text": [
      "LT05_L1TP_201018_20060220_20180311_01_T1.tif does not intersect /home/firewise/corine/corine_32631.tif\n",
      "LT05_L1TP_197018_20060616_20161121_01_T1.tif intersects empty part of corine\n",
      "LT05_L1TP_194019_20061102_20180309_01_T1.tif intersects empty part of corine\n",
      "LT05_L1TP_201019_20060220_20180311_01_T1.tif does not intersect /home/firewise/corine/corine_32631.tif\n",
      "LT05_L1TP_189027_20060726_20161120_01_T1.tif intersects empty part of corine\n",
      "LT05_L1TP_184031_20060925_20180309_01_T1.tif intersects empty part of corine\n",
      "LT05_L1TP_183031_20061207_20180309_01_T1.tif intersects empty part of corine\n",
      "LT05_L1TP_196024_20060508_20161121_01_T1.tif intersects empty part of corine\n",
      "LT05_L1TP_183028_20061020_20161118_01_T1.tif intersects empty part of corine\n"
     ]
    }
   ],
   "source": [
    "# Not all the files in landsat5list.py will actually be useful.\n",
    "# Some of them don't intersect corine at all, or only intersect a part of corine that is nodata.\n",
    "# This loop will check for that.  When it finds things, we should both remove those files\n",
    "# and comment out all files from the same pathrow combination in landsat5list.py, so\n",
    "# we don't download them again.\n",
    "\n",
    "for file in allwehave:\n",
    "    fp = rasterio.open(file)\n",
    "    cp = corine.fetch_corine(fp.crs)\n",
    "    geo_common = coords.geo_window_intersect(fp,cp.bounds)\n",
    "    if geo_common is None:\n",
    "        # This is odd, and probably should be investigated.\n",
    "        print(\"{} does not intersect {}\".format(file.name, cp.name))\n",
    "        continue\n",
    "    \n",
    "    fp_window = coords.geo_to_pixel(fp,geo_common)\n",
    "    cp_window = coords.geo_to_pixel(cp,geo_common)\n",
    "    (fp_window,cp_window) = coords.smudge(fp_window,cp_window)\n",
    "    \n",
    "    # check to see if the non-nodata bits overlap\n",
    "    fp_patch = fp.read(7, window=fp_window)\n",
    "    if not fp_patch.any():\n",
    "        print(\"{} is empty in intersection\".format(file.name))\n",
    "        continue\n",
    "        \n",
    "    cp_patch = cp.read(1, window=cp_window)\n",
    "    if cp_patch.all():\n",
    "        print(\"{} intersects empty part of corine\".format(file.name))\n",
    "        continue\n",
    "    \n",
    "    common_nodata = np.logical_and((fp_patch == 0), cp_patch)\n",
    "    if common_nodata.all():\n",
    "        print(\"{} and {} have no common data\".format(file.name, cp.name))\n",
    "    "
   ]
  },
  {
   "cell_type": "code",
   "execution_count": null,
   "metadata": {},
   "outputs": [],
   "source": []
  }
 ],
 "metadata": {
  "celltoolbar": "Initialization Cell",
  "kernelspec": {
   "display_name": "Python [conda env:fastai2]",
   "language": "python",
   "name": "conda-env-fastai2-py"
  },
  "language_info": {
   "codemirror_mode": {
    "name": "ipython",
    "version": 3
   },
   "file_extension": ".py",
   "mimetype": "text/x-python",
   "name": "python",
   "nbconvert_exporter": "python",
   "pygments_lexer": "ipython3",
   "version": "3.7.0"
  }
 },
 "nbformat": 4,
 "nbformat_minor": 2
}
