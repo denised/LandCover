{
 "cells": [
  {
   "cell_type": "markdown",
   "metadata": {},
   "source": [
    "# Fetch a random set of tiles from Landsat\n",
    "\n",
    "The code in this notebook selects a random subset of the landsat tiles listed in landsat5list.py (which are landsat5 tiles that cover the same space & time as the corine dataset).\n",
    "To use this notebook, you need to have a USGS account, and have the username and password in the USGS_USER and USGS_PASSWORD environment variables, respectively.  The variable landsat5fetch.storage_directory is the directory where the landsat files (both the tar files and the processed tif files) are stored.  Set it to another value if needed.\n",
    "\n",
    "Towards the bottom of the notebook are recommended methods to make sure that the retrieved tiles are actually useful, and to prevent unuseful ones from being downloaded again."
   ]
  },
  {
   "cell_type": "code",
   "execution_count": 1,
   "metadata": {
    "ExecuteTime": {
     "end_time": "2018-12-02T07:33:20.073558Z",
     "start_time": "2018-12-02T07:33:20.008475Z"
    },
    "init_cell": true
   },
   "outputs": [],
   "source": [
    "from landsat5fetch import *\n",
    "from pathlib import Path"
   ]
  },
  {
   "cell_type": "code",
   "execution_count": 2,
   "metadata": {
    "ExecuteTime": {
     "end_time": "2018-11-30T09:48:38.943754Z",
     "start_time": "2018-11-30T09:48:38.938800Z"
    }
   },
   "outputs": [],
   "source": [
    "s = get_session()"
   ]
  },
  {
   "cell_type": "code",
   "execution_count": 4,
   "metadata": {
    "ExecuteTime": {
     "end_time": "2018-12-02T04:53:10.530210Z",
     "start_time": "2018-12-02T04:53:10.393036Z"
    },
    "init_cell": true
   },
   "outputs": [
    {
     "name": "stdout",
     "output_type": "stream",
     "text": [
      "1823 39 1784\n"
     ]
    }
   ],
   "source": [
    "import numpy as np\n",
    "import landsat5list\n",
    "lst = np.array(landsat5list.potential_tiles)\n",
    "wehave = list(Path(landsat5fetch.storage_directory).glob('*.tif'))\n",
    "candidates = list(set(lst) - set( [x.stem for x in wehave ]))\n",
    "print( len(lst), len(wehave), len(candidates) )"
   ]
  },
  {
   "cell_type": "code",
   "execution_count": 5,
   "metadata": {
    "ExecuteTime": {
     "end_time": "2018-12-02T04:53:15.804496Z",
     "start_time": "2018-12-02T04:53:15.775673Z"
    }
   },
   "outputs": [
    {
     "data": {
      "text/plain": [
       "['LT05_L1TP_196032_20060508_20180310_01_T1',\n",
       " 'LT05_L1TP_190018_20060615_20161121_01_T1',\n",
       " 'LT05_L1TP_188031_20061124_20180309_01_T1',\n",
       " 'LT05_L1TP_201030_20060714_20180309_01_T1',\n",
       " 'LT05_L1TP_186026_20060705_20161120_01_T1',\n",
       " 'LT05_L1TP_189019_20060507_20161122_01_T1',\n",
       " 'LT05_L1TP_192025_20061019_20161118_01_T1',\n",
       " 'LT05_L1TP_192016_20060221_20180311_01_T1',\n",
       " 'LT05_L1TP_188034_20060804_20180309_01_T1',\n",
       " 'LT05_L1TP_177031_20060417_20180310_01_T1',\n",
       " 'LT05_L1TP_203032_20060728_20180310_01_T1',\n",
       " 'LT05_L1TP_192026_20060917_20161118_01_T1',\n",
       " 'LT05_L1TP_193033_20061010_20180309_01_T1',\n",
       " 'LT05_L1TP_177036_20060722_20180310_01_T1',\n",
       " 'LT05_L1TP_201033_20060425_20180309_01_T1',\n",
       " 'LT05_L1TP_186031_20060721_20180309_01_T1',\n",
       " 'LT05_L1TP_200029_20060723_20180310_01_T1',\n",
       " 'LT05_L1TP_187017_20060509_20161121_01_T1',\n",
       " 'LT05_L1TP_189023_20060507_20161122_01_T1',\n",
       " 'LT05_L1TP_188019_20060617_20161121_01_T1']"
      ]
     },
     "execution_count": 5,
     "metadata": {},
     "output_type": "execute_result"
    }
   ],
   "source": [
    "# USGS seems to have a limit of 20 that it will allow you to request at a time\n",
    "\n",
    "np.random.shuffle(candidates)\n",
    "tofetch = list(candidates[:20])\n",
    "tofetch"
   ]
  },
  {
   "cell_type": "code",
   "execution_count": 6,
   "metadata": {
    "ExecuteTime": {
     "end_time": "2018-12-02T07:20:26.735529Z",
     "start_time": "2018-12-02T07:20:25.370614Z"
    }
   },
   "outputs": [
    {
     "data": {
      "text/plain": [
       "'espa-draperd@acm.org-06132019-012013-725'"
      ]
     },
     "execution_count": 6,
     "metadata": {},
     "output_type": "execute_result"
    }
   ],
   "source": [
    "submit_order(list(tofetch))\n",
    "# Note: if you get a 400 (BAD REQUEST) error, it is probably because you've exceeded some resource limit, not actually a bad request"
   ]
  },
  {
   "cell_type": "code",
   "execution_count": 7,
   "metadata": {
    "ExecuteTime": {
     "end_time": "2018-12-02T09:53:01.854610Z",
     "start_time": "2018-12-02T09:53:01.081833Z"
    }
   },
   "outputs": [
    {
     "data": {
      "text/plain": [
       "['espa-draperd@acm.org-06132019-012013-725',\n",
       " 'espa-draperd@acm.org-06102019-013625-550']"
      ]
     },
     "execution_count": 7,
     "metadata": {},
     "output_type": "execute_result"
    }
   ],
   "source": [
    "get_open_orders()"
   ]
  },
  {
   "cell_type": "code",
   "execution_count": 14,
   "metadata": {
    "ExecuteTime": {
     "end_time": "2018-12-02T09:57:28.277362Z",
     "start_time": "2018-12-02T09:53:58.938599Z"
    }
   },
   "outputs": [
    {
     "name": "stdout",
     "output_type": "stream",
     "text": [
      "order espa-draperd@acm.org-06132019-012013-725\n",
      "LT05_L1TP_196032_20060508_20180310_01_T1: already have\n",
      "LT05_L1TP_177031_20060417_20180310_01_T1: already have\n",
      "LT05_L1TP_189019_20060507_20161122_01_T1: already have\n",
      "LT05_L1TP_203032_20060728_20180310_01_T1: already have\n",
      "LT05_L1TP_177036_20060722_20180310_01_T1: already have\n",
      "LT05_L1TP_188031_20061124_20180309_01_T1: already have\n",
      "LT05_L1TP_192026_20060917_20161118_01_T1: already have\n",
      "LT05_L1TP_192016_20060221_20180311_01_T1: already have\n",
      "downloading LT05_L1TP_192025_20061019_20161118_01_T1 ................................................................................done\n",
      "LT05_L1TP_200029_20060723_20180310_01_T1: already have\n",
      "LT05_L1TP_188034_20060804_20180309_01_T1: already have\n",
      "LT05_L1TP_201033_20060425_20180309_01_T1: already have\n",
      "LT05_L1TP_186026_20060705_20161120_01_T1: already have\n",
      "LT05_L1TP_187017_20060509_20161121_01_T1: already have\n",
      "LT05_L1TP_190018_20060615_20161121_01_T1: already have\n",
      "LT05_L1TP_189023_20060507_20161122_01_T1: already have\n",
      "LT05_L1TP_201030_20060714_20180309_01_T1: already have\n",
      "LT05_L1TP_188019_20060617_20161121_01_T1: already have\n",
      "LT05_L1TP_186031_20060721_20180309_01_T1: already have\n",
      "LT05_L1TP_193033_20061010_20180309_01_T1: already have\n",
      "order espa-draperd@acm.org-06102019-013625-550\n",
      "LT05_L1TP_196020_20060508_20161121_01_T1: already have\n",
      "LT05_L1TP_194025_20060424_20161122_01_T1: already have\n",
      "LT05_L1TP_188032_20061108_20180309_01_T1: already have\n",
      "LT05_L1TP_184034_20061128_20180309_01_T1: already have\n",
      "LT05_L1TP_186031_20060619_20180310_01_T1: already have\n",
      "LT05_L1TP_173034_20060726_20161120_01_T1: already have\n",
      "LT05_L1TP_190030_20060615_20180310_01_T1: already have\n",
      "LT05_L1TP_185021_20060916_20161118_01_T1: already have\n",
      "LT05_L1TP_186033_20060822_20180310_01_T1: already have\n",
      "LT05_L1TP_205031_20060827_20180310_01_T1: already have\n",
      "LT05_L1TP_193022_20060706_20161120_01_T1: already have\n",
      "LT05_L1TP_192028_20060901_20161119_01_T1: already have\n",
      "LT05_L1TP_191022_20060505_20161122_01_T1: already have\n",
      "LT05_L1TP_181034_20060718_20161120_01_T1: already have\n",
      "LT05_L1TP_172036_20060617_20180310_01_T1: already have\n",
      "LT05_L1TP_202035_20060619_20180310_01_T1: already have\n",
      "LT05_L1TP_176033_20060816_20161119_01_T1: already have\n",
      "LT05_L1TP_179033_20061211_20180312_01_T1: already have\n",
      "LT05_L1TP_170035_20060822_20161119_01_T1: already have\n",
      "LT05_L1TP_201034_20061002_20180309_01_T1: already have\n",
      "download complete\n"
     ]
    },
    {
     "data": {
      "text/plain": [
       "1"
      ]
     },
     "execution_count": 14,
     "metadata": {},
     "output_type": "execute_result"
    }
   ],
   "source": [
    "downloaded = download_available_results()\n",
    "len(downloaded)"
   ]
  },
  {
   "cell_type": "code",
   "execution_count": null,
   "metadata": {},
   "outputs": [],
   "source": [
    "# Warning: I wrote this for guidance, but I haven't actually checked that it works yet...\n",
    "files_to_process = [ Path('/home/usgs/landsat5') / (x + \".tar.gz\") for x in downloaded ]"
   ]
  },
  {
   "cell_type": "code",
   "execution_count": null,
   "metadata": {},
   "outputs": [],
   "source": [
    "# ls5munge.sh processes the data from the form we get it from landsat (a gzipped tar file) into the form we will use (a tif file)\n",
    "# Ideally we'd do the landsat tile processing from here in the notebook, but it doesn't work, because I have not found any way to activate the right conda environment \n",
    "# from within a notebook. So for now, you have to open a terminal, activate fastai environment, then run ls5munge.sh manually.\n",
    "#\n",
    "# Usage:  ./ls5munge.sh [full-paths-to-files-to-proess]"
   ]
  },
  {
   "cell_type": "code",
   "execution_count": 4,
   "metadata": {},
   "outputs": [],
   "source": [
    "import numpy as np\n",
    "from pathlib import Path\n",
    "import sys\n",
    "sys.path.append('/home/firewise/')  # add parent to python path so that we can import some tools...\n",
    "from multispectral import corine\n",
    "from multispectral import coords\n",
    "from multispectral import tools\n",
    "import rasterio\n",
    "tools.set_figure_width(20)"
   ]
  },
  {
   "cell_type": "code",
   "execution_count": 15,
   "metadata": {},
   "outputs": [
    {
     "data": {
      "text/plain": [
       "1"
      ]
     },
     "execution_count": 15,
     "metadata": {},
     "output_type": "execute_result"
    }
   ],
   "source": [
    "#tocheck = list(Path('/home/usgs/landsat5').glob('*.tif'))\n",
    "tocheck = [ Path('/home/usgs/landsat5') / (x + \".tif\") for x in downloaded ]\n",
    "len(tocheck)"
   ]
  },
  {
   "cell_type": "code",
   "execution_count": 16,
   "metadata": {},
   "outputs": [],
   "source": [
    "# Not all the files in landsat5list.py will actually be useful.\n",
    "# The checking here is similar to what we do in window generation, but in this case we are looking\n",
    "# at the *entire* landsat file at once.  This loop will find tiles that can't have any valid windows\n",
    "# (e.g. because they only intersect an empty part of corine).\n",
    "# Files identified here should both be removed from the storage directory and commented out of landsat5list.py --- in fact\n",
    "# all files with the same pathrow combo --- so that we don't download them again.\n",
    "\n",
    "failed = []\n",
    "for file in tocheck:\n",
    "    fp = rasterio.open(file)\n",
    "    cp = corine.fetch_corine(fp.crs)\n",
    "    geo_common = coords.geo_window_intersect(fp.bounds,cp.bounds)\n",
    "    if geo_common is None:\n",
    "        # This case shouldn't happen, and probably should be investigated.\n",
    "        failed.append(file)\n",
    "        print(\"{} does not intersect {}\".format(file.name, cp.name))\n",
    "        continue\n",
    "    \n",
    "    fp_window = coords.geo_to_pixel(fp,geo_common)\n",
    "    cp_window = coords.geo_to_pixel(cp,geo_common)\n",
    "    (fp_window,cp_window) = smudge(fp_window,cp_window)\n",
    "    \n",
    "    # check to see if the non-nodata bits overlap\n",
    "    fp_patch = fp.read(7, window=fp_window)\n",
    "    if not fp_patch.any():\n",
    "        failed.append(file)\n",
    "        print(\"{} is empty in intersection\".format(file.name))\n",
    "        continue\n",
    "        \n",
    "    cp_patch = cp.read(1, window=cp_window)\n",
    "    if not cp_patch.any():\n",
    "        failed.append(file)\n",
    "        print(\"{} intersects empty part of corine\".format(file.name))\n",
    "        continue\n",
    "    \n",
    "    common_data = np.logical_and(fp_patch,cp_patch)\n",
    "    if not common_data.any():\n",
    "        failed.append(file)\n",
    "        print(\"{} and {} have no common data\".format(file.name, cp.name))\n",
    "    "
   ]
  },
  {
   "cell_type": "code",
   "execution_count": 17,
   "metadata": {},
   "outputs": [
    {
     "data": {
      "image/png": "[encoded data removed]",
      "text/plain": [
       "<Figure size 432x288 with 1 Axes>"
      ]
     },
     "metadata": {},
     "output_type": "display_data"
    }
   ],
   "source": [
    "# Show the location of the failed tiles.  You should generally expect them to be visibly outside or on the edge of the corine data.\n",
    "# If they are not, it may mean the landsat data is corrupted, or a bug, or...\n",
    "\n",
    "for file in failed:\n",
    "    fp = rasterio.open(file)\n",
    "    cp = corine.fetch_corine(fp.crs)\n",
    "    tools.showband(cp,1,showrect=coords.geo_to_pixel(cp,fp.bounds).flatten())"
   ]
  },
  {
   "cell_type": "code",
   "execution_count": null,
   "metadata": {},
   "outputs": [],
   "source": []
  }
 ],
 "metadata": {
  "celltoolbar": "Initialization Cell",
  "kernelspec": {
   "display_name": "Python [conda env:fastai2]",
   "language": "python",
   "name": "conda-env-fastai2-py"
  },
  "language_info": {
   "codemirror_mode": {
    "name": "ipython",
    "version": 3
   },
   "file_extension": ".py",
   "mimetype": "text/x-python",
   "name": "python",
   "nbconvert_exporter": "python",
   "pygments_lexer": "ipython3",
   "version": "3.7.0"
  }
 },
 "nbformat": 4,
 "nbformat_minor": 2
}
