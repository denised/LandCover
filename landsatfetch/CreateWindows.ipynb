{
 "cells": [
  {
   "cell_type": "markdown",
   "metadata": {},
   "source": [
    "# Create windows lists for the existing set of landsat files\n",
    "\n",
    "This notebook would be used after fetching landsat tiles.  It will create windows from the tiles, and filter them (to skip empty ones).  You can use the visualization tools to see where the windows are superimposed on masks of the corine data.  Note that landsat tiles can cover the same location at different times, so 'doubled' rectangles aren't necessarily a bug.\n",
    "\n",
    "You have to move this notebook to the parent directory (or else add the parent directory to your python path) in order to use it.  Otherwise the multispectral imports below will fail.\n",
    "\n"
   ]
  },
  {
   "cell_type": "code",
   "execution_count": 1,
   "metadata": {},
   "outputs": [],
   "source": [
    "import rasterio\n",
    "import numpy as np\n",
    "from tqdm import tqdm\n",
    "from matplotlib import pyplot\n",
    "from pathlib import Path"
   ]
  },
  {
   "cell_type": "code",
   "execution_count": 3,
   "metadata": {},
   "outputs": [],
   "source": [
    "import sys\n",
    "sys.path.append('/home/firewise')\n",
    "from multispectral import corine\n",
    "from multispectral import coords\n",
    "from multispectral import windows\n",
    "from multispectral import tools\n",
    "tools.set_figure_width(15)"
   ]
  },
  {
   "cell_type": "code",
   "execution_count": 8,
   "metadata": {},
   "outputs": [],
   "source": [
    "alltiles = list(Path('/home/usgs/landsat5/').glob('*.tif'))"
   ]
  },
  {
   "cell_type": "code",
   "execution_count": 9,
   "metadata": {},
   "outputs": [],
   "source": [
    "alltiles[:5]"
   ]
  },
  {
   "cell_type": "code",
   "execution_count": 10,
   "metadata": {},
   "outputs": [],
   "source": [
    "wi = windows.prefilter(alltiles, corine.corine_filter)"
   ]
  },
  {
   "cell_type": "code",
   "execution_count": 11,
   "metadata": {},
   "outputs": [],
   "source": [
    "wl = list(wi)"
   ]
  },
  {
   "cell_type": "code",
   "execution_count": 12,
   "metadata": {},
   "outputs": [],
   "source": [
    "len(wl)"
   ]
  },
  {
   "cell_type": "code",
   "execution_count": 13,
   "metadata": {},
   "outputs": [],
   "source": [
    "corine._tile_counts"
   ]
  },
  {
   "cell_type": "code",
   "execution_count": 14,
   "metadata": {},
   "outputs": [],
   "source": [
    "windows.to_file(wl,'all_windows_v2.csv')"
   ]
  },
  {
   "cell_type": "code",
   "execution_count": 3,
   "metadata": {},
   "outputs": [],
   "source": [
    "wl = windows.from_file('all_windows.csv')"
   ]
  },
  {
   "cell_type": "code",
   "execution_count": 15,
   "metadata": {},
   "outputs": [],
   "source": [
    "cdats = {}\n",
    "for (ld,w) in wl:\n",
    "    cdat = corine.fetch_corine(ld.crs)\n",
    "    if cdat not in cdats:\n",
    "        cdats[cdat] = []\n",
    "    cdats[cdat].append((ld,w))"
   ]
  },
  {
   "cell_type": "code",
   "execution_count": 16,
   "metadata": {},
   "outputs": [],
   "source": [
    "for cdat in cdats:\n",
    "    print(\"{}: {}\".format(cdat.name, len(cdats[cdat])))"
   ]
  },
  {
   "cell_type": "code",
   "execution_count": 17,
   "metadata": {},
   "outputs": [],
   "source": [
    "def show_window_list(wl,cdat):\n",
    "    \"\"\"Show the window list superimposed on the specified dataset (generally a corine tile).\"\"\"\n",
    "    rs = [coords.geo_to_pixel(cdat, coords.pixel_to_geo(x,y)).flatten() for (x,y) in wl ]\n",
    "    tools.show_band(cdat,1,showrect=rs)"
   ]
  },
  {
   "cell_type": "code",
   "execution_count": 18,
   "metadata": {},
   "outputs": [],
   "source": [
    "for cdat, wl in cdats.items():\n",
    "    show_window_list( wl, cdat )"
   ]
  },
  {
   "cell_type": "code",
   "execution_count": null,
   "metadata": {},
   "outputs": [],
   "source": []
  }
 ],
 "metadata": {
  "kernelspec": {
   "display_name": "Python [conda env:fastai]",
   "language": "python",
   "name": "conda-env-fastai-py"
  },
  "language_info": {
   "codemirror_mode": {
    "name": "ipython",
    "version": 3
   },
   "file_extension": ".py",
   "mimetype": "text/x-python",
   "name": "python",
   "nbconvert_exporter": "python",
   "pygments_lexer": "ipython3",
   "version": "3.6.7"
  }
 },
 "nbformat": 4,
 "nbformat_minor": 2
}